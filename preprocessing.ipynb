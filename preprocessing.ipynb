{
 "cells": [
  {
   "cell_type": "code",
   "execution_count": 1,
   "id": "90ae2ac0",
   "metadata": {
    "executionInfo": {
     "elapsed": 1106,
     "status": "ok",
     "timestamp": 1643115779303,
     "user": {
      "displayName": "Dimitris Mylonas",
      "photoUrl": "https://lh3.googleusercontent.com/a/default-user=s64",
      "userId": "13692180599828237411"
     },
     "user_tz": -120
    },
    "id": "90ae2ac0"
   },
   "outputs": [],
   "source": [
    "import pandas as pd\n",
    "import numpy as np\n",
    "import math\n",
    "from scipy.stats import entropy\n",
    "from sklearn.experimental import enable_iterative_imputer\n",
    "from sklearn.impute import IterativeImputer\n",
    "from sklearn.ensemble import ExtraTreesRegressor\n",
    "from sklearn.preprocessing import OrdinalEncoder, OneHotEncoder\n",
    "import warnings\n",
    "warnings.filterwarnings('ignore')"
   ]
  },
  {
   "cell_type": "code",
   "execution_count": 2,
   "id": "d3691427",
   "metadata": {
    "id": "d3691427"
   },
   "outputs": [],
   "source": [
    "def injectNaN(x):\n",
    "    if x == \"_T\":\n",
    "        return np.nan\n",
    "    else: \n",
    "        return x"
   ]
  },
  {
   "cell_type": "code",
   "execution_count": 3,
   "id": "60cf2d57",
   "metadata": {
    "id": "60cf2d57"
   },
   "outputs": [],
   "source": [
    "def printDFInfo(df):\n",
    "    for col in df.columns:\n",
    "        ent = entropy(df[col].value_counts())\n",
    "        if col == 'TOPIC':\n",
    "            print(f'Column \\\"{col}\\\"\\t\\tΜissing values: {(df[col].isnull().sum() * 100 / len(df[col])):.2f}% || Entropy: {ent:.3f}')\n",
    "        else:\n",
    "            print(f'Column \\\"{col}\\\"\\tΜissing values: {(df[col].isnull().sum() * 100 / len(df[col])):.2f}% || Entropy: {ent:.3f}')"
   ]
  },
  {
   "cell_type": "code",
   "execution_count": 4,
   "id": "3bfccda2",
   "metadata": {
    "id": "3bfccda2",
    "outputId": "3d28d124-4b4f-4042-9151-2a7e2731af16"
   },
   "outputs": [
    {
     "data": {
      "text/html": [
       "<div>\n",
       "<style scoped>\n",
       "    .dataframe tbody tr th:only-of-type {\n",
       "        vertical-align: middle;\n",
       "    }\n",
       "\n",
       "    .dataframe tbody tr th {\n",
       "        vertical-align: top;\n",
       "    }\n",
       "\n",
       "    .dataframe thead th {\n",
       "        text-align: right;\n",
       "    }\n",
       "</style>\n",
       "<table border=\"1\" class=\"dataframe\">\n",
       "  <thead>\n",
       "    <tr style=\"text-align: right;\">\n",
       "      <th></th>\n",
       "      <th>DATAFLOW</th>\n",
       "      <th>FREQ: Frequency</th>\n",
       "      <th>TIME_PERIOD: Time</th>\n",
       "      <th>GEO_PICT: Pacific Island Countries and territories</th>\n",
       "      <th>TOPIC: Topic</th>\n",
       "      <th>INDICATOR: Indicator</th>\n",
       "      <th>SEX: Sex</th>\n",
       "      <th>AGE: Age</th>\n",
       "      <th>CONDITION: Women’s condition</th>\n",
       "      <th>VIOLENCE_TYPE: Type of violence</th>\n",
       "      <th>...</th>\n",
       "      <th>OUTCOME: Outcome</th>\n",
       "      <th>RESPONSE: Response</th>\n",
       "      <th>HELP_REASON: Reason for searching help</th>\n",
       "      <th>HELP_PROVIDER: Help provider</th>\n",
       "      <th>OBS_VALUE</th>\n",
       "      <th>UNIT_MEASURE: Unit of measure</th>\n",
       "      <th>UNIT_MULT: Unit multiplier</th>\n",
       "      <th>OBS_STATUS: Observation Status</th>\n",
       "      <th>DATA_SOURCE: Data source</th>\n",
       "      <th>OBS_COMMENT: Comment</th>\n",
       "    </tr>\n",
       "  </thead>\n",
       "  <tbody>\n",
       "    <tr>\n",
       "      <th>0</th>\n",
       "      <td>SPC:DF_VAW(1.0)</td>\n",
       "      <td>A: Annual</td>\n",
       "      <td>2013</td>\n",
       "      <td>CK: Cook Islands</td>\n",
       "      <td>VAW_TOPIC_001: Types of violence against women...</td>\n",
       "      <td>NUMPERRF: Number of persons in relative frequency</td>\n",
       "      <td>F: Female</td>\n",
       "      <td>Y15T64: 15-64</td>\n",
       "      <td>EVPART: Ever-partnered</td>\n",
       "      <td>CONT_ECON: At least one act of economic abusive</td>\n",
       "      <td>...</td>\n",
       "      <td>_T: Any</td>\n",
       "      <td>_T: Any</td>\n",
       "      <td>_T: Any</td>\n",
       "      <td>_T: Any</td>\n",
       "      <td>6.2</td>\n",
       "      <td>PERCENT: percent</td>\n",
       "      <td>NaN</td>\n",
       "      <td>NaN</td>\n",
       "      <td>FHSS</td>\n",
       "      <td>NaN</td>\n",
       "    </tr>\n",
       "    <tr>\n",
       "      <th>1</th>\n",
       "      <td>SPC:DF_VAW(1.0)</td>\n",
       "      <td>A: Annual</td>\n",
       "      <td>2013</td>\n",
       "      <td>CK: Cook Islands</td>\n",
       "      <td>VAW_TOPIC_001: Types of violence against women...</td>\n",
       "      <td>NUMPERRF: Number of persons in relative frequency</td>\n",
       "      <td>F: Female</td>\n",
       "      <td>Y15T64: 15-64</td>\n",
       "      <td>EVPART: Ever-partnered</td>\n",
       "      <td>EMO: Emotional violence</td>\n",
       "      <td>...</td>\n",
       "      <td>_T: Any</td>\n",
       "      <td>_T: Any</td>\n",
       "      <td>_T: Any</td>\n",
       "      <td>_T: Any</td>\n",
       "      <td>9.6</td>\n",
       "      <td>PERCENT: percent</td>\n",
       "      <td>NaN</td>\n",
       "      <td>NaN</td>\n",
       "      <td>FHSS</td>\n",
       "      <td>NaN</td>\n",
       "    </tr>\n",
       "    <tr>\n",
       "      <th>2</th>\n",
       "      <td>SPC:DF_VAW(1.0)</td>\n",
       "      <td>A: Annual</td>\n",
       "      <td>2013</td>\n",
       "      <td>CK: Cook Islands</td>\n",
       "      <td>VAW_TOPIC_001: Types of violence against women...</td>\n",
       "      <td>NUMPERRF: Number of persons in relative frequency</td>\n",
       "      <td>F: Female</td>\n",
       "      <td>Y15T64: 15-64</td>\n",
       "      <td>EVPART: Ever-partnered</td>\n",
       "      <td>EMO: Emotional violence</td>\n",
       "      <td>...</td>\n",
       "      <td>_T: Any</td>\n",
       "      <td>_T: Any</td>\n",
       "      <td>_T: Any</td>\n",
       "      <td>_T: Any</td>\n",
       "      <td>26.7</td>\n",
       "      <td>PERCENT: percent</td>\n",
       "      <td>NaN</td>\n",
       "      <td>NaN</td>\n",
       "      <td>FHSS</td>\n",
       "      <td>NaN</td>\n",
       "    </tr>\n",
       "    <tr>\n",
       "      <th>3</th>\n",
       "      <td>SPC:DF_VAW(1.0)</td>\n",
       "      <td>A: Annual</td>\n",
       "      <td>2013</td>\n",
       "      <td>CK: Cook Islands</td>\n",
       "      <td>VAW_TOPIC_001: Types of violence against women...</td>\n",
       "      <td>NUMPERRF: Number of persons in relative frequency</td>\n",
       "      <td>F: Female</td>\n",
       "      <td>Y15T64: 15-64</td>\n",
       "      <td>EVPART: Ever-partnered</td>\n",
       "      <td>PHYS: Physical violence</td>\n",
       "      <td>...</td>\n",
       "      <td>_T: Any</td>\n",
       "      <td>_T: Any</td>\n",
       "      <td>_T: Any</td>\n",
       "      <td>_T: Any</td>\n",
       "      <td>6.7</td>\n",
       "      <td>PERCENT: percent</td>\n",
       "      <td>NaN</td>\n",
       "      <td>NaN</td>\n",
       "      <td>FHSS</td>\n",
       "      <td>NaN</td>\n",
       "    </tr>\n",
       "    <tr>\n",
       "      <th>4</th>\n",
       "      <td>SPC:DF_VAW(1.0)</td>\n",
       "      <td>A: Annual</td>\n",
       "      <td>2013</td>\n",
       "      <td>CK: Cook Islands</td>\n",
       "      <td>VAW_TOPIC_001: Types of violence against women...</td>\n",
       "      <td>NUMPERRF: Number of persons in relative frequency</td>\n",
       "      <td>F: Female</td>\n",
       "      <td>Y15T64: 15-64</td>\n",
       "      <td>EVPART: Ever-partnered</td>\n",
       "      <td>PHYS: Physical violence</td>\n",
       "      <td>...</td>\n",
       "      <td>_T: Any</td>\n",
       "      <td>_T: Any</td>\n",
       "      <td>_T: Any</td>\n",
       "      <td>_T: Any</td>\n",
       "      <td>30.2</td>\n",
       "      <td>PERCENT: percent</td>\n",
       "      <td>NaN</td>\n",
       "      <td>NaN</td>\n",
       "      <td>FHSS</td>\n",
       "      <td>NaN</td>\n",
       "    </tr>\n",
       "  </tbody>\n",
       "</table>\n",
       "<p>5 rows × 23 columns</p>\n",
       "</div>"
      ],
      "text/plain": [
       "          DATAFLOW FREQ: Frequency  TIME_PERIOD: Time  \\\n",
       "0  SPC:DF_VAW(1.0)       A: Annual               2013   \n",
       "1  SPC:DF_VAW(1.0)       A: Annual               2013   \n",
       "2  SPC:DF_VAW(1.0)       A: Annual               2013   \n",
       "3  SPC:DF_VAW(1.0)       A: Annual               2013   \n",
       "4  SPC:DF_VAW(1.0)       A: Annual               2013   \n",
       "\n",
       "  GEO_PICT: Pacific Island Countries and territories  \\\n",
       "0                                   CK: Cook Islands   \n",
       "1                                   CK: Cook Islands   \n",
       "2                                   CK: Cook Islands   \n",
       "3                                   CK: Cook Islands   \n",
       "4                                   CK: Cook Islands   \n",
       "\n",
       "                                        TOPIC: Topic  \\\n",
       "0  VAW_TOPIC_001: Types of violence against women...   \n",
       "1  VAW_TOPIC_001: Types of violence against women...   \n",
       "2  VAW_TOPIC_001: Types of violence against women...   \n",
       "3  VAW_TOPIC_001: Types of violence against women...   \n",
       "4  VAW_TOPIC_001: Types of violence against women...   \n",
       "\n",
       "                                INDICATOR: Indicator   SEX: Sex  \\\n",
       "0  NUMPERRF: Number of persons in relative frequency  F: Female   \n",
       "1  NUMPERRF: Number of persons in relative frequency  F: Female   \n",
       "2  NUMPERRF: Number of persons in relative frequency  F: Female   \n",
       "3  NUMPERRF: Number of persons in relative frequency  F: Female   \n",
       "4  NUMPERRF: Number of persons in relative frequency  F: Female   \n",
       "\n",
       "        AGE: Age CONDITION: Women’s condition  \\\n",
       "0  Y15T64: 15-64       EVPART: Ever-partnered   \n",
       "1  Y15T64: 15-64       EVPART: Ever-partnered   \n",
       "2  Y15T64: 15-64       EVPART: Ever-partnered   \n",
       "3  Y15T64: 15-64       EVPART: Ever-partnered   \n",
       "4  Y15T64: 15-64       EVPART: Ever-partnered   \n",
       "\n",
       "                   VIOLENCE_TYPE: Type of violence  ... OUTCOME: Outcome  \\\n",
       "0  CONT_ECON: At least one act of economic abusive  ...          _T: Any   \n",
       "1                          EMO: Emotional violence  ...          _T: Any   \n",
       "2                          EMO: Emotional violence  ...          _T: Any   \n",
       "3                          PHYS: Physical violence  ...          _T: Any   \n",
       "4                          PHYS: Physical violence  ...          _T: Any   \n",
       "\n",
       "  RESPONSE: Response HELP_REASON: Reason for searching help  \\\n",
       "0            _T: Any                                _T: Any   \n",
       "1            _T: Any                                _T: Any   \n",
       "2            _T: Any                                _T: Any   \n",
       "3            _T: Any                                _T: Any   \n",
       "4            _T: Any                                _T: Any   \n",
       "\n",
       "  HELP_PROVIDER: Help provider OBS_VALUE UNIT_MEASURE: Unit of measure  \\\n",
       "0                      _T: Any       6.2              PERCENT: percent   \n",
       "1                      _T: Any       9.6              PERCENT: percent   \n",
       "2                      _T: Any      26.7              PERCENT: percent   \n",
       "3                      _T: Any       6.7              PERCENT: percent   \n",
       "4                      _T: Any      30.2              PERCENT: percent   \n",
       "\n",
       "  UNIT_MULT: Unit multiplier  OBS_STATUS: Observation Status  \\\n",
       "0                        NaN                             NaN   \n",
       "1                        NaN                             NaN   \n",
       "2                        NaN                             NaN   \n",
       "3                        NaN                             NaN   \n",
       "4                        NaN                             NaN   \n",
       "\n",
       "  DATA_SOURCE: Data source  OBS_COMMENT: Comment  \n",
       "0                     FHSS                   NaN  \n",
       "1                     FHSS                   NaN  \n",
       "2                     FHSS                   NaN  \n",
       "3                     FHSS                   NaN  \n",
       "4                     FHSS                   NaN  \n",
       "\n",
       "[5 rows x 23 columns]"
      ]
     },
     "execution_count": 4,
     "metadata": {},
     "output_type": "execute_result"
    }
   ],
   "source": [
    "data = pd.read_csv('VAW.csv')\n",
    "data.head()"
   ]
  },
  {
   "cell_type": "code",
   "execution_count": 5,
   "id": "8509fee7",
   "metadata": {
    "id": "8509fee7",
    "outputId": "dc373d7d-d318-4bbe-b0e8-248ffb45afc8"
   },
   "outputs": [
    {
     "data": {
      "text/html": [
       "<div>\n",
       "<style scoped>\n",
       "    .dataframe tbody tr th:only-of-type {\n",
       "        vertical-align: middle;\n",
       "    }\n",
       "\n",
       "    .dataframe tbody tr th {\n",
       "        vertical-align: top;\n",
       "    }\n",
       "\n",
       "    .dataframe thead th {\n",
       "        text-align: right;\n",
       "    }\n",
       "</style>\n",
       "<table border=\"1\" class=\"dataframe\">\n",
       "  <thead>\n",
       "    <tr style=\"text-align: right;\">\n",
       "      <th></th>\n",
       "      <th>DATAFLOW</th>\n",
       "      <th>FREQ</th>\n",
       "      <th>TIME_PERIOD</th>\n",
       "      <th>GEO_PICT</th>\n",
       "      <th>TOPIC</th>\n",
       "      <th>INDICATOR</th>\n",
       "      <th>SEX</th>\n",
       "      <th>AGE</th>\n",
       "      <th>CONDITION</th>\n",
       "      <th>VIOLENCE_TYPE</th>\n",
       "      <th>...</th>\n",
       "      <th>OUTCOME</th>\n",
       "      <th>RESPONSE</th>\n",
       "      <th>HELP_REASON</th>\n",
       "      <th>HELP_PROVIDER</th>\n",
       "      <th>OBS_VALUE</th>\n",
       "      <th>UNIT_MEASURE</th>\n",
       "      <th>UNIT_MULT</th>\n",
       "      <th>OBS_STATUS</th>\n",
       "      <th>DATA_SOURCE</th>\n",
       "      <th>OBS_COMMENT</th>\n",
       "    </tr>\n",
       "  </thead>\n",
       "  <tbody>\n",
       "    <tr>\n",
       "      <th>0</th>\n",
       "      <td>SPC</td>\n",
       "      <td>A</td>\n",
       "      <td>2013</td>\n",
       "      <td>CK</td>\n",
       "      <td>VAW_TOPIC_001</td>\n",
       "      <td>NUMPERRF</td>\n",
       "      <td>F</td>\n",
       "      <td>Y15T64</td>\n",
       "      <td>EVPART</td>\n",
       "      <td>CONT_ECON</td>\n",
       "      <td>...</td>\n",
       "      <td>NaN</td>\n",
       "      <td>NaN</td>\n",
       "      <td>NaN</td>\n",
       "      <td>NaN</td>\n",
       "      <td>6.2</td>\n",
       "      <td>PERCENT</td>\n",
       "      <td>NaN</td>\n",
       "      <td>NaN</td>\n",
       "      <td>FHSS</td>\n",
       "      <td>NaN</td>\n",
       "    </tr>\n",
       "    <tr>\n",
       "      <th>1</th>\n",
       "      <td>SPC</td>\n",
       "      <td>A</td>\n",
       "      <td>2013</td>\n",
       "      <td>CK</td>\n",
       "      <td>VAW_TOPIC_001</td>\n",
       "      <td>NUMPERRF</td>\n",
       "      <td>F</td>\n",
       "      <td>Y15T64</td>\n",
       "      <td>EVPART</td>\n",
       "      <td>EMO</td>\n",
       "      <td>...</td>\n",
       "      <td>NaN</td>\n",
       "      <td>NaN</td>\n",
       "      <td>NaN</td>\n",
       "      <td>NaN</td>\n",
       "      <td>9.6</td>\n",
       "      <td>PERCENT</td>\n",
       "      <td>NaN</td>\n",
       "      <td>NaN</td>\n",
       "      <td>FHSS</td>\n",
       "      <td>NaN</td>\n",
       "    </tr>\n",
       "    <tr>\n",
       "      <th>2</th>\n",
       "      <td>SPC</td>\n",
       "      <td>A</td>\n",
       "      <td>2013</td>\n",
       "      <td>CK</td>\n",
       "      <td>VAW_TOPIC_001</td>\n",
       "      <td>NUMPERRF</td>\n",
       "      <td>F</td>\n",
       "      <td>Y15T64</td>\n",
       "      <td>EVPART</td>\n",
       "      <td>EMO</td>\n",
       "      <td>...</td>\n",
       "      <td>NaN</td>\n",
       "      <td>NaN</td>\n",
       "      <td>NaN</td>\n",
       "      <td>NaN</td>\n",
       "      <td>26.7</td>\n",
       "      <td>PERCENT</td>\n",
       "      <td>NaN</td>\n",
       "      <td>NaN</td>\n",
       "      <td>FHSS</td>\n",
       "      <td>NaN</td>\n",
       "    </tr>\n",
       "    <tr>\n",
       "      <th>3</th>\n",
       "      <td>SPC</td>\n",
       "      <td>A</td>\n",
       "      <td>2013</td>\n",
       "      <td>CK</td>\n",
       "      <td>VAW_TOPIC_001</td>\n",
       "      <td>NUMPERRF</td>\n",
       "      <td>F</td>\n",
       "      <td>Y15T64</td>\n",
       "      <td>EVPART</td>\n",
       "      <td>PHYS</td>\n",
       "      <td>...</td>\n",
       "      <td>NaN</td>\n",
       "      <td>NaN</td>\n",
       "      <td>NaN</td>\n",
       "      <td>NaN</td>\n",
       "      <td>6.7</td>\n",
       "      <td>PERCENT</td>\n",
       "      <td>NaN</td>\n",
       "      <td>NaN</td>\n",
       "      <td>FHSS</td>\n",
       "      <td>NaN</td>\n",
       "    </tr>\n",
       "    <tr>\n",
       "      <th>4</th>\n",
       "      <td>SPC</td>\n",
       "      <td>A</td>\n",
       "      <td>2013</td>\n",
       "      <td>CK</td>\n",
       "      <td>VAW_TOPIC_001</td>\n",
       "      <td>NUMPERRF</td>\n",
       "      <td>F</td>\n",
       "      <td>Y15T64</td>\n",
       "      <td>EVPART</td>\n",
       "      <td>PHYS</td>\n",
       "      <td>...</td>\n",
       "      <td>NaN</td>\n",
       "      <td>NaN</td>\n",
       "      <td>NaN</td>\n",
       "      <td>NaN</td>\n",
       "      <td>30.2</td>\n",
       "      <td>PERCENT</td>\n",
       "      <td>NaN</td>\n",
       "      <td>NaN</td>\n",
       "      <td>FHSS</td>\n",
       "      <td>NaN</td>\n",
       "    </tr>\n",
       "  </tbody>\n",
       "</table>\n",
       "<p>5 rows × 23 columns</p>\n",
       "</div>"
      ],
      "text/plain": [
       "  DATAFLOW FREQ  TIME_PERIOD GEO_PICT          TOPIC INDICATOR SEX     AGE  \\\n",
       "0      SPC    A         2013       CK  VAW_TOPIC_001  NUMPERRF   F  Y15T64   \n",
       "1      SPC    A         2013       CK  VAW_TOPIC_001  NUMPERRF   F  Y15T64   \n",
       "2      SPC    A         2013       CK  VAW_TOPIC_001  NUMPERRF   F  Y15T64   \n",
       "3      SPC    A         2013       CK  VAW_TOPIC_001  NUMPERRF   F  Y15T64   \n",
       "4      SPC    A         2013       CK  VAW_TOPIC_001  NUMPERRF   F  Y15T64   \n",
       "\n",
       "  CONDITION VIOLENCE_TYPE  ... OUTCOME RESPONSE HELP_REASON HELP_PROVIDER  \\\n",
       "0    EVPART     CONT_ECON  ...     NaN      NaN         NaN           NaN   \n",
       "1    EVPART           EMO  ...     NaN      NaN         NaN           NaN   \n",
       "2    EVPART           EMO  ...     NaN      NaN         NaN           NaN   \n",
       "3    EVPART          PHYS  ...     NaN      NaN         NaN           NaN   \n",
       "4    EVPART          PHYS  ...     NaN      NaN         NaN           NaN   \n",
       "\n",
       "  OBS_VALUE UNIT_MEASURE UNIT_MULT  OBS_STATUS DATA_SOURCE  OBS_COMMENT  \n",
       "0       6.2      PERCENT       NaN         NaN        FHSS          NaN  \n",
       "1       9.6      PERCENT       NaN         NaN        FHSS          NaN  \n",
       "2      26.7      PERCENT       NaN         NaN        FHSS          NaN  \n",
       "3       6.7      PERCENT       NaN         NaN        FHSS          NaN  \n",
       "4      30.2      PERCENT       NaN         NaN        FHSS          NaN  \n",
       "\n",
       "[5 rows x 23 columns]"
      ]
     },
     "execution_count": 5,
     "metadata": {},
     "output_type": "execute_result"
    }
   ],
   "source": [
    "data.columns = data.columns.to_series().apply(lambda x: x.split(':')[0])\n",
    "\n",
    "for col in data.columns:\n",
    "    try:\n",
    "        data[col] = data[col].apply(lambda x: x.split(':')[0])\n",
    "        data[col] = data[col].apply(injectNaN)\n",
    "    except AttributeError:\n",
    "        pass\n",
    "    \n",
    "data.head()"
   ]
  },
  {
   "cell_type": "code",
   "execution_count": 6,
   "id": "85e27993",
   "metadata": {
    "id": "85e27993",
    "outputId": "f23e86c9-d5d4-4523-d526-0840c3bf48b9"
   },
   "outputs": [
    {
     "name": "stdout",
     "output_type": "stream",
     "text": [
      "Column \"DATAFLOW\" entropy: 0.00 || ADDED TO DROPLIST\n",
      "Column \"FREQ\" entropy: 0.00 || ADDED TO DROPLIST\n",
      "Column \"TIME_PERIOD\" entropy: 2.25\n",
      "Column \"GEO_PICT\" entropy: 2.51\n",
      "Column \"TOPIC\" entropy: 2.83\n",
      "Column \"INDICATOR\" entropy: 0.00 || ADDED TO DROPLIST\n",
      "Column \"SEX\" entropy: 0.00 || ADDED TO DROPLIST\n",
      "Column \"AGE\" entropy: 0.00 || ADDED TO DROPLIST\n",
      "Column \"CONDITION\" entropy: 0.90\n",
      "Column \"VIOLENCE_TYPE\" entropy: 2.74\n",
      "Column \"PERPETRATOR\" entropy: 0.99\n",
      "Column \"ACTUALITY\" entropy: 0.69\n",
      "Column \"LIFEPER\" entropy: 0.82\n",
      "Column \"OUTCOME\" entropy: 3.05\n",
      "Column \"RESPONSE\" entropy: 1.95\n",
      "Column \"HELP_REASON\" entropy: 1.79\n",
      "Column \"HELP_PROVIDER\" entropy: 1.61\n",
      "Column \"OBS_VALUE\" entropy: 5.95\n",
      "Column \"UNIT_MEASURE\" entropy: 0.00 || ADDED TO DROPLIST\n",
      "Column \"UNIT_MULT\" entropy: 0.00 || ADDED TO DROPLIST\n",
      "Column \"OBS_STATUS\" entropy: 0.00 || ADDED TO DROPLIST\n",
      "Column \"DATA_SOURCE\" entropy: 1.45\n",
      "Column \"OBS_COMMENT\" entropy: 1.81\n"
     ]
    }
   ],
   "source": [
    "dropList = []\n",
    "\n",
    "for col in data.columns:\n",
    "    ent = entropy(data[col].value_counts())\n",
    "    if ent == 0:\n",
    "        dropList.append(col)\n",
    "        print(f'Column \\\"{col}\\\" entropy: {ent:.2f} || ADDED TO DROPLIST')\n",
    "    else:\n",
    "        print(f'Column \\\"{col}\\\" entropy: {ent:.2f}')"
   ]
  },
  {
   "cell_type": "code",
   "execution_count": 7,
   "id": "4abbb7f0",
   "metadata": {
    "id": "4abbb7f0"
   },
   "outputs": [],
   "source": [
    "data.drop(dropList, axis = 1, inplace = True)"
   ]
  },
  {
   "cell_type": "code",
   "execution_count": 8,
   "id": "7d92d7e3",
   "metadata": {
    "id": "7d92d7e3",
    "outputId": "0e776e74-51f7-420e-c946-205422bd5eae"
   },
   "outputs": [
    {
     "name": "stdout",
     "output_type": "stream",
     "text": [
      "Column \"TIME_PERIOD\"\tΜissing values: 0.00% || Entropy: 2.253\n",
      "Column \"GEO_PICT\"\tΜissing values: 0.00% || Entropy: 2.513\n",
      "Column \"TOPIC\"\t\tΜissing values: 0.00% || Entropy: 2.833\n",
      "Column \"CONDITION\"\tΜissing values: 52.38% || Entropy: 0.900\n",
      "Column \"VIOLENCE_TYPE\"\tΜissing values: 34.92% || Entropy: 2.744\n",
      "Column \"PERPETRATOR\"\tΜissing values: 12.70% || Entropy: 0.992\n",
      "Column \"ACTUALITY\"\tΜissing values: 41.27% || Entropy: 0.692\n",
      "Column \"LIFEPER\"\tΜissing values: 76.19% || Entropy: 0.817\n",
      "Column \"OUTCOME\"\tΜissing values: 73.02% || Entropy: 3.047\n",
      "Column \"RESPONSE\"\tΜissing values: 94.44% || Entropy: 1.946\n",
      "Column \"HELP_REASON\"\tΜissing values: 95.24% || Entropy: 1.792\n",
      "Column \"HELP_PROVIDER\"\tΜissing values: 96.03% || Entropy: 1.609\n",
      "Column \"OBS_VALUE\"\tΜissing values: 38.79% || Entropy: 5.948\n",
      "Column \"DATA_SOURCE\"\tΜissing values: 0.00% || Entropy: 1.450\n",
      "Column \"OBS_COMMENT\"\tΜissing values: 49.75% || Entropy: 1.807\n"
     ]
    }
   ],
   "source": [
    "printDFInfo(data)"
   ]
  },
  {
   "cell_type": "code",
   "execution_count": 9,
   "id": "4a6833ef",
   "metadata": {
    "id": "4a6833ef",
    "outputId": "88284f4a-682c-43e4-d639-ea139afccc8c"
   },
   "outputs": [
    {
     "name": "stdout",
     "output_type": "stream",
     "text": [
      "(2016, 15)\n"
     ]
    }
   ],
   "source": [
    "print(data.shape)"
   ]
  },
  {
   "cell_type": "code",
   "execution_count": 10,
   "id": "7c2cb411",
   "metadata": {
    "id": "7c2cb411",
    "outputId": "c28c184a-0315-40da-f25a-b99ff95f9548"
   },
   "outputs": [
    {
     "name": "stdout",
     "output_type": "stream",
     "text": [
      "<class 'pandas.core.frame.DataFrame'>\n",
      "RangeIndex: 2016 entries, 0 to 2015\n",
      "Data columns (total 15 columns):\n",
      " #   Column         Non-Null Count  Dtype  \n",
      "---  ------         --------------  -----  \n",
      " 0   TIME_PERIOD    2016 non-null   int64  \n",
      " 1   GEO_PICT       2016 non-null   object \n",
      " 2   TOPIC          2016 non-null   object \n",
      " 3   CONDITION      960 non-null    object \n",
      " 4   VIOLENCE_TYPE  1312 non-null   object \n",
      " 5   PERPETRATOR    1760 non-null   object \n",
      " 6   ACTUALITY      1184 non-null   object \n",
      " 7   LIFEPER        480 non-null    object \n",
      " 8   OUTCOME        544 non-null    object \n",
      " 9   RESPONSE       112 non-null    object \n",
      " 10  HELP_REASON    96 non-null     object \n",
      " 11  HELP_PROVIDER  80 non-null     object \n",
      " 12  OBS_VALUE      1234 non-null   float64\n",
      " 13  DATA_SOURCE    2016 non-null   object \n",
      " 14  OBS_COMMENT    1013 non-null   object \n",
      "dtypes: float64(1), int64(1), object(13)\n",
      "memory usage: 236.4+ KB\n"
     ]
    }
   ],
   "source": [
    "data.info()"
   ]
  },
  {
   "cell_type": "code",
   "execution_count": 11,
   "id": "9dfe7c95",
   "metadata": {
    "id": "9dfe7c95"
   },
   "outputs": [],
   "source": [
    "encode_data = data"
   ]
  },
  {
   "cell_type": "code",
   "execution_count": 12,
   "id": "035ed519",
   "metadata": {
    "id": "035ed519"
   },
   "outputs": [],
   "source": [
    "#impute_data.head(100)"
   ]
  },
  {
   "cell_type": "code",
   "execution_count": 13,
   "id": "ed91e0f3",
   "metadata": {
    "id": "ed91e0f3"
   },
   "outputs": [],
   "source": [
    "data_train_idx = []\n",
    "data_test_idx = []\n",
    "\n",
    "for index, row in data.iterrows():\n",
    "    if (type(row['OUTCOME']) == float):\n",
    "        data_test_idx.append(index)\n",
    "    else:\n",
    "        data_train_idx.append(index)"
   ]
  },
  {
   "cell_type": "code",
   "execution_count": 14,
   "id": "4c664a5f",
   "metadata": {
    "id": "4c664a5f",
    "outputId": "e3002c28-192a-4e53-da81-3a84a7c4b013"
   },
   "outputs": [
    {
     "name": "stdout",
     "output_type": "stream",
     "text": [
      "(544, 15)\n",
      "(1472, 15)\n"
     ]
    }
   ],
   "source": [
    "data_train = data.iloc[data_train_idx,:] \n",
    "data_test = data.iloc[data_test_idx,:] \n",
    "\n",
    "data_train.reset_index(drop = True, inplace = True)\n",
    "data_test.reset_index(drop = True, inplace = True)\n",
    "\n",
    "print(data_train.shape)\n",
    "print(data_test.shape)"
   ]
  },
  {
   "cell_type": "code",
   "execution_count": 15,
   "id": "7c8d6c66",
   "metadata": {
    "id": "7c8d6c66",
    "outputId": "c74dbe22-32e5-4fc6-8c43-7533acd1f14e"
   },
   "outputs": [
    {
     "name": "stdout",
     "output_type": "stream",
     "text": [
      "Column \"TIME_PERIOD\"\tΜissing values: 0.00% || Entropy: 2.253\n",
      "Column \"GEO_PICT\"\tΜissing values: 0.00% || Entropy: 2.513\n",
      "Column \"TOPIC\"\t\tΜissing values: 0.00% || Entropy: 1.568\n",
      "Column \"CONDITION\"\tΜissing values: 52.94% || Entropy: 1.082\n",
      "Column \"VIOLENCE_TYPE\"\tΜissing values: 73.53% || Entropy: 0.995\n",
      "Column \"PERPETRATOR\"\tΜissing values: 26.47% || Entropy: 0.000\n",
      "Column \"ACTUALITY\"\tΜissing values: 73.53% || Entropy: 0.687\n",
      "Column \"LIFEPER\"\tΜissing values: 91.18% || Entropy: 0.000\n",
      "Column \"OUTCOME\"\tΜissing values: 0.00% || Entropy: 3.047\n",
      "Column \"RESPONSE\"\tΜissing values: 100.00% || Entropy: 0.000\n",
      "Column \"HELP_REASON\"\tΜissing values: 100.00% || Entropy: 0.000\n",
      "Column \"HELP_PROVIDER\"\tΜissing values: 100.00% || Entropy: 0.000\n",
      "Column \"OBS_VALUE\"\tΜissing values: 45.22% || Entropy: 5.223\n",
      "Column \"DATA_SOURCE\"\tΜissing values: 0.00% || Entropy: 1.450\n",
      "Column \"OBS_COMMENT\"\tΜissing values: 50.00% || Entropy: 1.800\n"
     ]
    }
   ],
   "source": [
    "printDFInfo(data_train)"
   ]
  },
  {
   "cell_type": "code",
   "execution_count": 16,
   "id": "19a690a4",
   "metadata": {
    "id": "19a690a4",
    "outputId": "8e4d8c59-41e9-45b3-b75b-ec18fdf9a099"
   },
   "outputs": [
    {
     "name": "stdout",
     "output_type": "stream",
     "text": [
      "Column \"TIME_PERIOD\"\tΜissing values: 0.00% || Entropy: 2.253\n",
      "Column \"GEO_PICT\"\tΜissing values: 0.00% || Entropy: 2.513\n",
      "Column \"TOPIC\"\t\tΜissing values: 0.00% || Entropy: 2.501\n",
      "Column \"CONDITION\"\tΜissing values: 52.17% || Entropy: 0.108\n",
      "Column \"VIOLENCE_TYPE\"\tΜissing values: 20.65% || Entropy: 2.819\n",
      "Column \"PERPETRATOR\"\tΜissing values: 7.61% || Entropy: 1.179\n",
      "Column \"ACTUALITY\"\tΜissing values: 29.35% || Entropy: 0.692\n",
      "Column \"LIFEPER\"\tΜissing values: 70.65% || Entropy: 0.630\n",
      "Column \"OUTCOME\"\tΜissing values: 100.00% || Entropy: 0.000\n",
      "Column \"RESPONSE\"\tΜissing values: 92.39% || Entropy: 1.946\n",
      "Column \"HELP_REASON\"\tΜissing values: 93.48% || Entropy: 1.792\n",
      "Column \"HELP_PROVIDER\"\tΜissing values: 94.57% || Entropy: 1.609\n",
      "Column \"OBS_VALUE\"\tΜissing values: 36.41% || Entropy: 5.851\n",
      "Column \"DATA_SOURCE\"\tΜissing values: 0.00% || Entropy: 1.450\n",
      "Column \"OBS_COMMENT\"\tΜissing values: 49.66% || Entropy: 1.790\n"
     ]
    }
   ],
   "source": [
    "printDFInfo(data_test)"
   ]
  },
  {
   "cell_type": "code",
   "execution_count": 17,
   "id": "3b2938b3",
   "metadata": {
    "id": "3b2938b3",
    "outputId": "a482edf4-50c3-477f-9bec-50be46c7c782"
   },
   "outputs": [
    {
     "name": "stdout",
     "output_type": "stream",
     "text": [
      "Column \"TIME_PERIOD\" entropy: 2.25\n",
      "Column \"GEO_PICT\" entropy: 2.51\n",
      "Column \"TOPIC\" entropy: 1.57\n",
      "Column \"CONDITION\" entropy: 1.08\n",
      "Column \"VIOLENCE_TYPE\" entropy: 1.00\n",
      "Column \"PERPETRATOR\" entropy: 0.00 || ADDED TO DROPLIST\n",
      "Column \"ACTUALITY\" entropy: 0.69\n",
      "Column \"LIFEPER\" entropy: 0.00 || ADDED TO DROPLIST\n",
      "Column \"OUTCOME\" entropy: 3.05\n",
      "Column \"RESPONSE\" entropy: 0.00 || ADDED TO DROPLIST\n",
      "Column \"HELP_REASON\" entropy: 0.00 || ADDED TO DROPLIST\n",
      "Column \"HELP_PROVIDER\" entropy: 0.00 || ADDED TO DROPLIST\n",
      "Column \"OBS_VALUE\" entropy: 5.22\n",
      "Column \"DATA_SOURCE\" entropy: 1.45\n",
      "Column \"OBS_COMMENT\" entropy: 1.80\n"
     ]
    }
   ],
   "source": [
    "dropList = []\n",
    "\n",
    "for col in data_train.columns:\n",
    "    ent = entropy(data_train[col].value_counts())\n",
    "    if ent == 0:\n",
    "        dropList.append(col)\n",
    "        print(f'Column \\\"{col}\\\" entropy: {ent:.2f} || ADDED TO DROPLIST')\n",
    "    else:\n",
    "        print(f'Column \\\"{col}\\\" entropy: {ent:.2f}')"
   ]
  },
  {
   "cell_type": "code",
   "execution_count": 18,
   "id": "f5e41d27",
   "metadata": {
    "id": "f5e41d27"
   },
   "outputs": [],
   "source": [
    "data_train.drop(dropList, axis = 1, inplace = True)\n",
    "data_test.drop(dropList, axis = 1, inplace = True)"
   ]
  },
  {
   "cell_type": "code",
   "execution_count": 19,
   "id": "5c9bb5be",
   "metadata": {
    "id": "5c9bb5be",
    "outputId": "6acdffcf-44a1-40a6-9962-749462ba80ea"
   },
   "outputs": [
    {
     "name": "stdout",
     "output_type": "stream",
     "text": [
      "Column \"TIME_PERIOD\"\tΜissing values: 0.00% || Entropy: 2.253\n",
      "Column \"GEO_PICT\"\tΜissing values: 0.00% || Entropy: 2.513\n",
      "Column \"TOPIC\"\t\tΜissing values: 0.00% || Entropy: 1.568\n",
      "Column \"CONDITION\"\tΜissing values: 52.94% || Entropy: 1.082\n",
      "Column \"VIOLENCE_TYPE\"\tΜissing values: 73.53% || Entropy: 0.995\n",
      "Column \"ACTUALITY\"\tΜissing values: 73.53% || Entropy: 0.687\n",
      "Column \"OUTCOME\"\tΜissing values: 0.00% || Entropy: 3.047\n",
      "Column \"OBS_VALUE\"\tΜissing values: 45.22% || Entropy: 5.223\n",
      "Column \"DATA_SOURCE\"\tΜissing values: 0.00% || Entropy: 1.450\n",
      "Column \"OBS_COMMENT\"\tΜissing values: 50.00% || Entropy: 1.800\n"
     ]
    }
   ],
   "source": [
    "printDFInfo(data_train)"
   ]
  },
  {
   "cell_type": "code",
   "execution_count": 20,
   "id": "7de8c963",
   "metadata": {
    "id": "7de8c963",
    "outputId": "59b7fd8d-7e7f-4cce-d084-520f9bd9b1a3"
   },
   "outputs": [
    {
     "name": "stdout",
     "output_type": "stream",
     "text": [
      "Column \"TIME_PERIOD\"\tΜissing values: 0.00% || Entropy: 2.253\n",
      "Column \"GEO_PICT\"\tΜissing values: 0.00% || Entropy: 2.513\n",
      "Column \"TOPIC\"\t\tΜissing values: 0.00% || Entropy: 2.501\n",
      "Column \"CONDITION\"\tΜissing values: 52.17% || Entropy: 0.108\n",
      "Column \"VIOLENCE_TYPE\"\tΜissing values: 20.65% || Entropy: 2.819\n",
      "Column \"ACTUALITY\"\tΜissing values: 29.35% || Entropy: 0.692\n",
      "Column \"OUTCOME\"\tΜissing values: 100.00% || Entropy: 0.000\n",
      "Column \"OBS_VALUE\"\tΜissing values: 36.41% || Entropy: 5.851\n",
      "Column \"DATA_SOURCE\"\tΜissing values: 0.00% || Entropy: 1.450\n",
      "Column \"OBS_COMMENT\"\tΜissing values: 49.66% || Entropy: 1.790\n"
     ]
    }
   ],
   "source": [
    "printDFInfo(data_test)"
   ]
  },
  {
   "cell_type": "code",
   "execution_count": 21,
   "id": "b4b096c6",
   "metadata": {},
   "outputs": [],
   "source": [
    "manual_dropList = ['CONDITION', 'VIOLENCE_TYPE', 'ACTUALITY', 'DATA_SOURCE', 'OBS_COMMENT']\n",
    "data_train.drop(manual_dropList, axis = 1, inplace = True)\n",
    "data_test.drop(manual_dropList, axis = 1, inplace = True)"
   ]
  },
  {
   "cell_type": "code",
   "execution_count": 22,
   "id": "65e8f7d8",
   "metadata": {},
   "outputs": [
    {
     "name": "stdout",
     "output_type": "stream",
     "text": [
      "Column \"TIME_PERIOD\"\tΜissing values: 0.00% || Entropy: 2.253\n",
      "Column \"GEO_PICT\"\tΜissing values: 0.00% || Entropy: 2.513\n",
      "Column \"TOPIC\"\t\tΜissing values: 0.00% || Entropy: 1.568\n",
      "Column \"OUTCOME\"\tΜissing values: 0.00% || Entropy: 3.047\n",
      "Column \"OBS_VALUE\"\tΜissing values: 45.22% || Entropy: 5.223\n"
     ]
    }
   ],
   "source": [
    "printDFInfo(data_train)"
   ]
  },
  {
   "cell_type": "code",
   "execution_count": 23,
   "id": "d64f04ad",
   "metadata": {},
   "outputs": [
    {
     "name": "stdout",
     "output_type": "stream",
     "text": [
      "Column \"TIME_PERIOD\"\tΜissing values: 0.00% || Entropy: 2.253\n",
      "Column \"GEO_PICT\"\tΜissing values: 0.00% || Entropy: 2.513\n",
      "Column \"TOPIC\"\t\tΜissing values: 0.00% || Entropy: 2.501\n",
      "Column \"OUTCOME\"\tΜissing values: 100.00% || Entropy: 0.000\n",
      "Column \"OBS_VALUE\"\tΜissing values: 36.41% || Entropy: 5.851\n"
     ]
    }
   ],
   "source": [
    "printDFInfo(data_test)"
   ]
  },
  {
   "cell_type": "code",
   "execution_count": 24,
   "id": "c37ab2e3",
   "metadata": {
    "id": "c37ab2e3"
   },
   "outputs": [],
   "source": [
    "data_train.to_csv(\"data_train.csv\", index = False)\n",
    "data_test.to_csv(\"data_test.csv\", index = False)"
   ]
  },
  {
   "cell_type": "code",
   "execution_count": 25,
   "id": "3b8a5366",
   "metadata": {
    "id": "3b8a5366",
    "outputId": "7d769a93-07bb-41b1-fe7e-7d16fd3fe485"
   },
   "outputs": [
    {
     "data": {
      "text/html": [
       "<div>\n",
       "<style scoped>\n",
       "    .dataframe tbody tr th:only-of-type {\n",
       "        vertical-align: middle;\n",
       "    }\n",
       "\n",
       "    .dataframe tbody tr th {\n",
       "        vertical-align: top;\n",
       "    }\n",
       "\n",
       "    .dataframe thead th {\n",
       "        text-align: right;\n",
       "    }\n",
       "</style>\n",
       "<table border=\"1\" class=\"dataframe\">\n",
       "  <thead>\n",
       "    <tr style=\"text-align: right;\">\n",
       "      <th></th>\n",
       "      <th>TIME_PERIOD</th>\n",
       "      <th>GEO_PICT</th>\n",
       "      <th>TOPIC</th>\n",
       "      <th>CONDITION</th>\n",
       "      <th>VIOLENCE_TYPE</th>\n",
       "      <th>PERPETRATOR</th>\n",
       "      <th>ACTUALITY</th>\n",
       "      <th>LIFEPER</th>\n",
       "      <th>OUTCOME</th>\n",
       "      <th>RESPONSE</th>\n",
       "      <th>HELP_REASON</th>\n",
       "      <th>HELP_PROVIDER</th>\n",
       "      <th>OBS_VALUE</th>\n",
       "      <th>DATA_SOURCE</th>\n",
       "      <th>OBS_COMMENT</th>\n",
       "    </tr>\n",
       "  </thead>\n",
       "  <tbody>\n",
       "    <tr>\n",
       "      <th>0</th>\n",
       "      <td>2013</td>\n",
       "      <td>0.0</td>\n",
       "      <td>0.0</td>\n",
       "      <td>1.0</td>\n",
       "      <td>0.0</td>\n",
       "      <td>5.0</td>\n",
       "      <td>NaN</td>\n",
       "      <td>NaN</td>\n",
       "      <td>NaN</td>\n",
       "      <td>NaN</td>\n",
       "      <td>NaN</td>\n",
       "      <td>NaN</td>\n",
       "      <td>6.2</td>\n",
       "      <td>1.0</td>\n",
       "      <td>NaN</td>\n",
       "    </tr>\n",
       "    <tr>\n",
       "      <th>1</th>\n",
       "      <td>2013</td>\n",
       "      <td>0.0</td>\n",
       "      <td>0.0</td>\n",
       "      <td>1.0</td>\n",
       "      <td>5.0</td>\n",
       "      <td>5.0</td>\n",
       "      <td>0.0</td>\n",
       "      <td>NaN</td>\n",
       "      <td>NaN</td>\n",
       "      <td>NaN</td>\n",
       "      <td>NaN</td>\n",
       "      <td>NaN</td>\n",
       "      <td>9.6</td>\n",
       "      <td>1.0</td>\n",
       "      <td>NaN</td>\n",
       "    </tr>\n",
       "    <tr>\n",
       "      <th>2</th>\n",
       "      <td>2013</td>\n",
       "      <td>0.0</td>\n",
       "      <td>0.0</td>\n",
       "      <td>1.0</td>\n",
       "      <td>5.0</td>\n",
       "      <td>5.0</td>\n",
       "      <td>1.0</td>\n",
       "      <td>NaN</td>\n",
       "      <td>NaN</td>\n",
       "      <td>NaN</td>\n",
       "      <td>NaN</td>\n",
       "      <td>NaN</td>\n",
       "      <td>26.7</td>\n",
       "      <td>1.0</td>\n",
       "      <td>NaN</td>\n",
       "    </tr>\n",
       "    <tr>\n",
       "      <th>3</th>\n",
       "      <td>2013</td>\n",
       "      <td>0.0</td>\n",
       "      <td>0.0</td>\n",
       "      <td>1.0</td>\n",
       "      <td>9.0</td>\n",
       "      <td>5.0</td>\n",
       "      <td>0.0</td>\n",
       "      <td>NaN</td>\n",
       "      <td>NaN</td>\n",
       "      <td>NaN</td>\n",
       "      <td>NaN</td>\n",
       "      <td>NaN</td>\n",
       "      <td>6.7</td>\n",
       "      <td>1.0</td>\n",
       "      <td>NaN</td>\n",
       "    </tr>\n",
       "    <tr>\n",
       "      <th>4</th>\n",
       "      <td>2013</td>\n",
       "      <td>0.0</td>\n",
       "      <td>0.0</td>\n",
       "      <td>1.0</td>\n",
       "      <td>9.0</td>\n",
       "      <td>5.0</td>\n",
       "      <td>1.0</td>\n",
       "      <td>NaN</td>\n",
       "      <td>NaN</td>\n",
       "      <td>NaN</td>\n",
       "      <td>NaN</td>\n",
       "      <td>NaN</td>\n",
       "      <td>30.2</td>\n",
       "      <td>1.0</td>\n",
       "      <td>NaN</td>\n",
       "    </tr>\n",
       "    <tr>\n",
       "      <th>...</th>\n",
       "      <td>...</td>\n",
       "      <td>...</td>\n",
       "      <td>...</td>\n",
       "      <td>...</td>\n",
       "      <td>...</td>\n",
       "      <td>...</td>\n",
       "      <td>...</td>\n",
       "      <td>...</td>\n",
       "      <td>...</td>\n",
       "      <td>...</td>\n",
       "      <td>...</td>\n",
       "      <td>...</td>\n",
       "      <td>...</td>\n",
       "      <td>...</td>\n",
       "      <td>...</td>\n",
       "    </tr>\n",
       "    <tr>\n",
       "      <th>95</th>\n",
       "      <td>2013</td>\n",
       "      <td>0.0</td>\n",
       "      <td>12.0</td>\n",
       "      <td>2.0</td>\n",
       "      <td>NaN</td>\n",
       "      <td>5.0</td>\n",
       "      <td>NaN</td>\n",
       "      <td>1.0</td>\n",
       "      <td>0.0</td>\n",
       "      <td>NaN</td>\n",
       "      <td>NaN</td>\n",
       "      <td>NaN</td>\n",
       "      <td>3.6</td>\n",
       "      <td>1.0</td>\n",
       "      <td>NaN</td>\n",
       "    </tr>\n",
       "    <tr>\n",
       "      <th>96</th>\n",
       "      <td>2013</td>\n",
       "      <td>0.0</td>\n",
       "      <td>12.0</td>\n",
       "      <td>2.0</td>\n",
       "      <td>NaN</td>\n",
       "      <td>5.0</td>\n",
       "      <td>NaN</td>\n",
       "      <td>1.0</td>\n",
       "      <td>16.0</td>\n",
       "      <td>NaN</td>\n",
       "      <td>NaN</td>\n",
       "      <td>NaN</td>\n",
       "      <td>8.9</td>\n",
       "      <td>1.0</td>\n",
       "      <td>NaN</td>\n",
       "    </tr>\n",
       "    <tr>\n",
       "      <th>97</th>\n",
       "      <td>2013</td>\n",
       "      <td>0.0</td>\n",
       "      <td>12.0</td>\n",
       "      <td>2.0</td>\n",
       "      <td>NaN</td>\n",
       "      <td>5.0</td>\n",
       "      <td>NaN</td>\n",
       "      <td>1.0</td>\n",
       "      <td>21.0</td>\n",
       "      <td>NaN</td>\n",
       "      <td>NaN</td>\n",
       "      <td>NaN</td>\n",
       "      <td>8.8</td>\n",
       "      <td>1.0</td>\n",
       "      <td>NaN</td>\n",
       "    </tr>\n",
       "    <tr>\n",
       "      <th>98</th>\n",
       "      <td>2013</td>\n",
       "      <td>0.0</td>\n",
       "      <td>13.0</td>\n",
       "      <td>3.0</td>\n",
       "      <td>NaN</td>\n",
       "      <td>NaN</td>\n",
       "      <td>NaN</td>\n",
       "      <td>NaN</td>\n",
       "      <td>7.0</td>\n",
       "      <td>NaN</td>\n",
       "      <td>NaN</td>\n",
       "      <td>NaN</td>\n",
       "      <td>NaN</td>\n",
       "      <td>1.0</td>\n",
       "      <td>NaN</td>\n",
       "    </tr>\n",
       "    <tr>\n",
       "      <th>99</th>\n",
       "      <td>2013</td>\n",
       "      <td>0.0</td>\n",
       "      <td>13.0</td>\n",
       "      <td>3.0</td>\n",
       "      <td>NaN</td>\n",
       "      <td>NaN</td>\n",
       "      <td>NaN</td>\n",
       "      <td>NaN</td>\n",
       "      <td>14.0</td>\n",
       "      <td>NaN</td>\n",
       "      <td>NaN</td>\n",
       "      <td>NaN</td>\n",
       "      <td>NaN</td>\n",
       "      <td>1.0</td>\n",
       "      <td>NaN</td>\n",
       "    </tr>\n",
       "  </tbody>\n",
       "</table>\n",
       "<p>100 rows × 15 columns</p>\n",
       "</div>"
      ],
      "text/plain": [
       "    TIME_PERIOD GEO_PICT TOPIC CONDITION VIOLENCE_TYPE PERPETRATOR ACTUALITY  \\\n",
       "0          2013      0.0   0.0       1.0           0.0         5.0       NaN   \n",
       "1          2013      0.0   0.0       1.0           5.0         5.0       0.0   \n",
       "2          2013      0.0   0.0       1.0           5.0         5.0       1.0   \n",
       "3          2013      0.0   0.0       1.0           9.0         5.0       0.0   \n",
       "4          2013      0.0   0.0       1.0           9.0         5.0       1.0   \n",
       "..          ...      ...   ...       ...           ...         ...       ...   \n",
       "95         2013      0.0  12.0       2.0           NaN         5.0       NaN   \n",
       "96         2013      0.0  12.0       2.0           NaN         5.0       NaN   \n",
       "97         2013      0.0  12.0       2.0           NaN         5.0       NaN   \n",
       "98         2013      0.0  13.0       3.0           NaN         NaN       NaN   \n",
       "99         2013      0.0  13.0       3.0           NaN         NaN       NaN   \n",
       "\n",
       "   LIFEPER OUTCOME RESPONSE HELP_REASON HELP_PROVIDER  OBS_VALUE DATA_SOURCE  \\\n",
       "0      NaN     NaN      NaN         NaN           NaN        6.2         1.0   \n",
       "1      NaN     NaN      NaN         NaN           NaN        9.6         1.0   \n",
       "2      NaN     NaN      NaN         NaN           NaN       26.7         1.0   \n",
       "3      NaN     NaN      NaN         NaN           NaN        6.7         1.0   \n",
       "4      NaN     NaN      NaN         NaN           NaN       30.2         1.0   \n",
       "..     ...     ...      ...         ...           ...        ...         ...   \n",
       "95     1.0     0.0      NaN         NaN           NaN        3.6         1.0   \n",
       "96     1.0    16.0      NaN         NaN           NaN        8.9         1.0   \n",
       "97     1.0    21.0      NaN         NaN           NaN        8.8         1.0   \n",
       "98     NaN     7.0      NaN         NaN           NaN        NaN         1.0   \n",
       "99     NaN    14.0      NaN         NaN           NaN        NaN         1.0   \n",
       "\n",
       "   OBS_COMMENT  \n",
       "0          NaN  \n",
       "1          NaN  \n",
       "2          NaN  \n",
       "3          NaN  \n",
       "4          NaN  \n",
       "..         ...  \n",
       "95         NaN  \n",
       "96         NaN  \n",
       "97         NaN  \n",
       "98         NaN  \n",
       "99         NaN  \n",
       "\n",
       "[100 rows x 15 columns]"
      ]
     },
     "execution_count": 25,
     "metadata": {},
     "output_type": "execute_result"
    }
   ],
   "source": [
    "#encoding below----------------------------------------------------------------------------------\n",
    "\n",
    "#instantiate both packages to use\n",
    "encoder = OrdinalEncoder()\n",
    "imputer = IterativeImputer(ExtraTreesRegressor())\n",
    "# create a list of categorical columns to iterate over\n",
    "cat_cols = ['GEO_PICT','TOPIC','CONDITION','VIOLENCE_TYPE','PERPETRATOR','ACTUALITY','LIFEPER', \n",
    "            'OUTCOME', 'RESPONSE','HELP_REASON', 'HELP_PROVIDER', 'DATA_SOURCE', 'OBS_COMMENT']\n",
    "\n",
    "def encode(encode_data):\n",
    "    '''function to encode non-null data and replace it in the original data'''\n",
    "    #retains only non-null values\n",
    "    nonulls = np.array(encode_data.dropna())\n",
    "    #reshapes the data for encoding\n",
    "    impute_reshape = nonulls.reshape(-1,1)\n",
    "    #encode date\n",
    "    impute_ordinal = encoder.fit_transform(impute_reshape)\n",
    "    #Assign back encoded values to non-null values\n",
    "    encode_data.loc[encode_data.notnull()] = np.squeeze(impute_ordinal)\n",
    "    return encode_data\n",
    "\n",
    "for columns in cat_cols:\n",
    "    encode(encode_data[columns])\n",
    "    \n",
    "impute_data = pd.DataFrame(np.round(imputer.fit_transform(encode_data)),columns = encode_data.columns)\n",
    "\n",
    "#print(impute_data.info())\n",
    "    \n",
    "encode_data.head(100)"
   ]
  },
  {
   "cell_type": "code",
   "execution_count": 26,
   "id": "a107b88c",
   "metadata": {
    "id": "a107b88c"
   },
   "outputs": [],
   "source": [
    "data_enc_train_idx = []\n",
    "data_enc_test_idx = []\n",
    "\n",
    "for index, row in encode_data.iterrows():\n",
    "    if (math.isnan(row['OUTCOME'])): #== NaN\n",
    "        data_enc_test_idx.append(index)\n",
    "    else:\n",
    "        data_enc_train_idx.append(index)"
   ]
  },
  {
   "cell_type": "code",
   "execution_count": 27,
   "id": "9e2a695d",
   "metadata": {
    "id": "9e2a695d",
    "outputId": "c991a8c4-5f3f-479a-d196-0027f5361181"
   },
   "outputs": [
    {
     "name": "stdout",
     "output_type": "stream",
     "text": [
      "(544, 15)\n",
      "(1472, 15)\n"
     ]
    }
   ],
   "source": [
    "data_enc_train = encode_data.iloc[data_enc_train_idx,:] \n",
    "data_enc_test = encode_data.iloc[data_enc_test_idx,:] \n",
    "\n",
    "data_enc_train.reset_index(drop = True, inplace = True)\n",
    "data_enc_test.reset_index(drop = True, inplace = True)\n",
    "\n",
    "print(data_enc_train.shape)\n",
    "print(data_enc_test.shape)"
   ]
  },
  {
   "cell_type": "code",
   "execution_count": 28,
   "id": "378da753",
   "metadata": {
    "id": "378da753",
    "outputId": "a184377e-b1fb-489a-d601-44a1e978e3cd"
   },
   "outputs": [
    {
     "name": "stdout",
     "output_type": "stream",
     "text": [
      "Column \"TIME_PERIOD\"\tΜissing values: 0.00% || Entropy: 2.253\n",
      "Column \"GEO_PICT\"\tΜissing values: 0.00% || Entropy: 2.513\n",
      "Column \"TOPIC\"\t\tΜissing values: 0.00% || Entropy: 1.568\n",
      "Column \"CONDITION\"\tΜissing values: 52.94% || Entropy: 1.082\n",
      "Column \"VIOLENCE_TYPE\"\tΜissing values: 73.53% || Entropy: 0.995\n",
      "Column \"PERPETRATOR\"\tΜissing values: 26.47% || Entropy: 0.000\n",
      "Column \"ACTUALITY\"\tΜissing values: 73.53% || Entropy: 0.687\n",
      "Column \"LIFEPER\"\tΜissing values: 91.18% || Entropy: 0.000\n",
      "Column \"OUTCOME\"\tΜissing values: 0.00% || Entropy: 3.047\n",
      "Column \"RESPONSE\"\tΜissing values: 100.00% || Entropy: 0.000\n",
      "Column \"HELP_REASON\"\tΜissing values: 100.00% || Entropy: 0.000\n",
      "Column \"HELP_PROVIDER\"\tΜissing values: 100.00% || Entropy: 0.000\n",
      "Column \"OBS_VALUE\"\tΜissing values: 45.22% || Entropy: 5.223\n",
      "Column \"DATA_SOURCE\"\tΜissing values: 0.00% || Entropy: 1.450\n",
      "Column \"OBS_COMMENT\"\tΜissing values: 50.00% || Entropy: 1.800\n"
     ]
    }
   ],
   "source": [
    "printDFInfo(data_enc_train)"
   ]
  },
  {
   "cell_type": "code",
   "execution_count": 29,
   "id": "db31ef41",
   "metadata": {
    "id": "db31ef41",
    "outputId": "940cf31d-8b99-4ea4-b511-8bfc5de3bb4b"
   },
   "outputs": [
    {
     "name": "stdout",
     "output_type": "stream",
     "text": [
      "Column \"TIME_PERIOD\"\tΜissing values: 0.00% || Entropy: 2.253\n",
      "Column \"GEO_PICT\"\tΜissing values: 0.00% || Entropy: 2.513\n",
      "Column \"TOPIC\"\t\tΜissing values: 0.00% || Entropy: 2.501\n",
      "Column \"CONDITION\"\tΜissing values: 52.17% || Entropy: 0.108\n",
      "Column \"VIOLENCE_TYPE\"\tΜissing values: 20.65% || Entropy: 2.819\n",
      "Column \"PERPETRATOR\"\tΜissing values: 7.61% || Entropy: 1.179\n",
      "Column \"ACTUALITY\"\tΜissing values: 29.35% || Entropy: 0.692\n",
      "Column \"LIFEPER\"\tΜissing values: 70.65% || Entropy: 0.630\n",
      "Column \"OUTCOME\"\tΜissing values: 100.00% || Entropy: 0.000\n",
      "Column \"RESPONSE\"\tΜissing values: 92.39% || Entropy: 1.946\n",
      "Column \"HELP_REASON\"\tΜissing values: 93.48% || Entropy: 1.792\n",
      "Column \"HELP_PROVIDER\"\tΜissing values: 94.57% || Entropy: 1.609\n",
      "Column \"OBS_VALUE\"\tΜissing values: 36.41% || Entropy: 5.851\n",
      "Column \"DATA_SOURCE\"\tΜissing values: 0.00% || Entropy: 1.450\n",
      "Column \"OBS_COMMENT\"\tΜissing values: 49.66% || Entropy: 1.790\n"
     ]
    }
   ],
   "source": [
    "printDFInfo(data_enc_test)"
   ]
  },
  {
   "cell_type": "code",
   "execution_count": 30,
   "id": "7cce2ec4",
   "metadata": {
    "id": "7cce2ec4",
    "outputId": "56652458-0a72-4da9-f50e-a9a437636264"
   },
   "outputs": [
    {
     "name": "stdout",
     "output_type": "stream",
     "text": [
      "Column \"TIME_PERIOD\" entropy: 2.25\n",
      "Column \"GEO_PICT\" entropy: 2.51\n",
      "Column \"TOPIC\" entropy: 1.57\n",
      "Column \"CONDITION\" entropy: 1.08\n",
      "Column \"VIOLENCE_TYPE\" entropy: 1.00\n",
      "Column \"PERPETRATOR\" entropy: 0.00 || ADDED TO DROPLIST\n",
      "Column \"ACTUALITY\" entropy: 0.69\n",
      "Column \"LIFEPER\" entropy: 0.00 || ADDED TO DROPLIST\n",
      "Column \"OUTCOME\" entropy: 3.05\n",
      "Column \"RESPONSE\" entropy: 0.00 || ADDED TO DROPLIST\n",
      "Column \"HELP_REASON\" entropy: 0.00 || ADDED TO DROPLIST\n",
      "Column \"HELP_PROVIDER\" entropy: 0.00 || ADDED TO DROPLIST\n",
      "Column \"OBS_VALUE\" entropy: 5.22\n",
      "Column \"DATA_SOURCE\" entropy: 1.45\n",
      "Column \"OBS_COMMENT\" entropy: 1.80\n"
     ]
    }
   ],
   "source": [
    "dropList_enc = []\n",
    "\n",
    "for col in data_enc_train.columns:\n",
    "    ent = entropy(data_enc_train[col].value_counts())\n",
    "    if ent == 0:\n",
    "        dropList_enc.append(col)\n",
    "        print(f'Column \\\"{col}\\\" entropy: {ent:.2f} || ADDED TO DROPLIST')\n",
    "    else:\n",
    "        print(f'Column \\\"{col}\\\" entropy: {ent:.2f}')"
   ]
  },
  {
   "cell_type": "code",
   "execution_count": 31,
   "id": "3ca39787",
   "metadata": {
    "id": "3ca39787"
   },
   "outputs": [],
   "source": [
    "data_enc_train.drop(dropList_enc, axis = 1, inplace = True)\n",
    "data_enc_test.drop(dropList_enc, axis = 1, inplace = True)"
   ]
  },
  {
   "cell_type": "code",
   "execution_count": 32,
   "id": "87f7b313",
   "metadata": {
    "id": "87f7b313",
    "outputId": "2d66996d-fd2f-406c-8b8a-0fef24cc08dd"
   },
   "outputs": [
    {
     "name": "stdout",
     "output_type": "stream",
     "text": [
      "Column \"TIME_PERIOD\"\tΜissing values: 0.00% || Entropy: 2.253\n",
      "Column \"GEO_PICT\"\tΜissing values: 0.00% || Entropy: 2.513\n",
      "Column \"TOPIC\"\t\tΜissing values: 0.00% || Entropy: 1.568\n",
      "Column \"CONDITION\"\tΜissing values: 52.94% || Entropy: 1.082\n",
      "Column \"VIOLENCE_TYPE\"\tΜissing values: 73.53% || Entropy: 0.995\n",
      "Column \"ACTUALITY\"\tΜissing values: 73.53% || Entropy: 0.687\n",
      "Column \"OUTCOME\"\tΜissing values: 0.00% || Entropy: 3.047\n",
      "Column \"OBS_VALUE\"\tΜissing values: 45.22% || Entropy: 5.223\n",
      "Column \"DATA_SOURCE\"\tΜissing values: 0.00% || Entropy: 1.450\n",
      "Column \"OBS_COMMENT\"\tΜissing values: 50.00% || Entropy: 1.800\n"
     ]
    }
   ],
   "source": [
    "printDFInfo(data_enc_train)"
   ]
  },
  {
   "cell_type": "code",
   "execution_count": 33,
   "id": "b966b572",
   "metadata": {
    "id": "b966b572",
    "outputId": "e498acf1-2e5b-497c-8a20-feb0fdfe56b5"
   },
   "outputs": [
    {
     "name": "stdout",
     "output_type": "stream",
     "text": [
      "Column \"TIME_PERIOD\"\tΜissing values: 0.00% || Entropy: 2.253\n",
      "Column \"GEO_PICT\"\tΜissing values: 0.00% || Entropy: 2.513\n",
      "Column \"TOPIC\"\t\tΜissing values: 0.00% || Entropy: 2.501\n",
      "Column \"CONDITION\"\tΜissing values: 52.17% || Entropy: 0.108\n",
      "Column \"VIOLENCE_TYPE\"\tΜissing values: 20.65% || Entropy: 2.819\n",
      "Column \"ACTUALITY\"\tΜissing values: 29.35% || Entropy: 0.692\n",
      "Column \"OUTCOME\"\tΜissing values: 100.00% || Entropy: 0.000\n",
      "Column \"OBS_VALUE\"\tΜissing values: 36.41% || Entropy: 5.851\n",
      "Column \"DATA_SOURCE\"\tΜissing values: 0.00% || Entropy: 1.450\n",
      "Column \"OBS_COMMENT\"\tΜissing values: 49.66% || Entropy: 1.790\n"
     ]
    }
   ],
   "source": [
    "printDFInfo(data_enc_test)"
   ]
  },
  {
   "cell_type": "code",
   "execution_count": 34,
   "id": "8617f8da",
   "metadata": {
    "id": "8617f8da"
   },
   "outputs": [],
   "source": [
    "data_enc_train.to_csv(\"data_enc_train.csv\", index = False)\n",
    "data_enc_test.to_csv(\"data_enc_test.csv\", index = False)"
   ]
  },
  {
   "cell_type": "code",
   "execution_count": null,
   "id": "31ca284f",
   "metadata": {
    "id": "31ca284f"
   },
   "outputs": [],
   "source": []
  }
 ],
 "metadata": {
  "colab": {
   "collapsed_sections": [],
   "name": "preprocessing.ipynb",
   "provenance": []
  },
  "kernelspec": {
   "display_name": "Python 3 (ipykernel)",
   "language": "python",
   "name": "python3"
  },
  "language_info": {
   "codemirror_mode": {
    "name": "ipython",
    "version": 3
   },
   "file_extension": ".py",
   "mimetype": "text/x-python",
   "name": "python",
   "nbconvert_exporter": "python",
   "pygments_lexer": "ipython3",
   "version": "3.9.7"
  }
 },
 "nbformat": 4,
 "nbformat_minor": 5
}
